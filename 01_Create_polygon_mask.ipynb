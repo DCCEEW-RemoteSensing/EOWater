{
 "cells": [
  {
   "cell_type": "markdown",
   "id": "546b8bc0-6e36-4b61-9c5a-8e425101d2d5",
   "metadata": {},
   "source": [
    "# 01. Create polygon mask for Sentinel-2 and Landsat tiles\n",
    "\n",
    "First step to create the polygon mask that is then ingested into GEE for processing water surface area time-series.\n",
    "\n",
    "This notebook reads in:\n",
    "- a Sentinel-2 image (full tile)\n",
    "- a spatial layer with waterbodies' boundaries\n",
    "\n",
    "And returns:\n",
    "- a polygon mask the same size of the tile where each waterbody is labelled with a different uint16 value"
   ]
  },
  {
   "cell_type": "markdown",
   "id": "7471a9f2-aeaf-4936-89e5-25a334f7e72d",
   "metadata": {},
   "source": [
    "#### Initial settings"
   ]
  },
  {
   "cell_type": "code",
   "execution_count": 1,
   "id": "12a23bed-0c8b-49ba-92d5-f2c651d95409",
   "metadata": {
    "tags": []
   },
   "outputs": [],
   "source": [
    "# main libraries\n",
    "import os\n",
    "import numpy as np\n",
    "import csv\n",
    "import shutil\n",
    "import zipfile\n",
    "\n",
    "# plotting modules\n",
    "import matplotlib.pyplot as plt\n",
    "from matplotlib import colors\n",
    "\n",
    "# ignore annoying warnings\n",
    "import warnings\n",
    "warnings.filterwarnings(\"ignore\")\n",
    "\n",
    "# geoprocessing modules\n",
    "from skimage import morphology, transform\n",
    "from skimage.draw import polygon2mask\n",
    "from osgeo import gdal\n",
    "from osgeo import osr\n",
    "import geopandas as gpd\n",
    "import pandas as pd\n",
    "import rasterio\n",
    "from rasterio.transform import from_origin\n",
    "\n",
    "# few auxiliary functions\n",
    "from utils import write_dict_to_csv, reproject, duplicates_dict, convert_world2pix\n"
   ]
  },
  {
   "cell_type": "markdown",
   "id": "a36c875c-cc80-4ed3-ab02-26ba63afc7e9",
   "metadata": {},
   "source": [
    "### Set filepaths and parameters"
   ]
  },
  {
   "cell_type": "code",
   "execution_count": 7,
   "id": "f7af498b-48de-45bb-9980-fd2fc3a0b3aa",
   "metadata": {
    "tags": []
   },
   "outputs": [
    {
     "name": "stdout",
     "output_type": "stream",
     "text": [
      "1254 polygons loaded\n",
      "0 empty polygons removed from OFS\n",
      "1 Sentinel-2 tiles found:\n",
      "['T55JGH']\n",
      "1 Landsat tiles found:\n",
      "['LC08_L1TP_091080_20231115_20231122_02_T1_B2.TIF']\n"
     ]
    }
   ],
   "source": [
    "# inputs and outputs directories\n",
    "fp_inputs = os.path.join(os.getcwd(),'inputs')\n",
    "fp_outputs = os.path.join(os.getcwd(),'outputs')\n",
    "if not os.path.exists(fp_outputs): os.makedirs(fp_outputs)\n",
    "\n",
    "# load waterbodies layer\n",
    "fp_OFS = os.path.join(fp_inputs,'waterbodies_boundaries.geojson')\n",
    "gdf_OFS = gpd.read_file(fp_OFS, driver=\"GeoJSON\")\n",
    "print('%d polygons loaded'%len(gdf_OFS))\n",
    "\n",
    "# parameters\n",
    "LABEL_MULTIPLE = 5      # Multiple by which to multiply the labels\n",
    "BUFFER_LANDSAT = 10     # 10m buffer to allow for georeferencing errors in Landsat\n",
    "BUFFER_S2 = 20          # 20m buffer to allow for georeferencing errors in S2\n",
    "\n",
    "# check for empty geometries\n",
    "idx_empty = []\n",
    "for i in range(len(gdf_OFS)):\n",
    "    if gdf_OFS.iloc[i].geometry is None:\n",
    "        idx_empty.append(i)\n",
    "if len(idx_empty) > 0:\n",
    "    gdf_OFS.drop(idx_empty, inplace=True)\n",
    "print('%d empty polygons removed from OFS'%len(idx_empty))\n",
    "\n",
    "# create a unique id for processing in GEE\n",
    "gdf_OFS['GEEID'] = ['OFS_%05d'%_ for _ in np.arange(1,len(gdf_OFS)+1)]\n",
    "\n",
    "# reset indices\n",
    "gdf_OFS.index = np.arange(len(gdf_OFS))\n",
    "\n",
    "# save new layer\n",
    "gdf_OFS.to_file(os.path.join(fp_outputs,'waterbodies_boundaries_geeid.geojson'))\n",
    "\n",
    "# load Sentinel-2 tiles\n",
    "fp_tiles_S2 = os.path.join(fp_inputs,'Sentinel2_tiles')\n",
    "fn_tiles_S2 = os.listdir(fp_tiles_S2)\n",
    "print('%d Sentinel-2 tiles found:'%len(fn_tiles_S2))\n",
    "print(fn_tiles_S2)\n",
    "fp_out_tiles_S2 = os.path.join(fp_outputs,'Sentinel2_tiles_mask')\n",
    "if not os.path.exists(fp_out_tiles_S2): os.makedirs(fp_out_tiles_S2)\n",
    "\n",
    "# load Landsat tiles\n",
    "fp_tiles_L = os.path.join(fp_inputs,'Landsat_tiles')\n",
    "fn_tiles_L = os.listdir(fp_tiles_L)\n",
    "print('%d Landsat tiles found:'%len(fn_tiles_L))\n",
    "print(fn_tiles_L)\n",
    "fp_out_tiles_L = os.path.join(fp_outputs,'Landsat_tiles_mask')\n",
    "if not os.path.exists(fp_out_tiles_L): os.makedirs(fp_out_tiles_L)"
   ]
  },
  {
   "cell_type": "markdown",
   "id": "600bc549-25ec-4232-ac77-4bdc8ff3eb93",
   "metadata": {},
   "source": [
    "### Create Sentinel-2 mask"
   ]
  },
  {
   "cell_type": "code",
   "execution_count": 8,
   "id": "8d644ae6-d614-4575-b915-4d32c171d061",
   "metadata": {
    "tags": []
   },
   "outputs": [],
   "source": [
    "# function to read the Sentinel-2 folders\n",
    "def list_files_recursive(folder_path):\n",
    "    all_files = []\n",
    "    try:\n",
    "        # Walk through the folder and its subfolders\n",
    "        for root, dirs, files in os.walk(folder_path):\n",
    "            # print(f\"Files in '{root}':\")\n",
    "            for file in files:\n",
    "                all_files.append(os.path.join(root, file))\n",
    "    except FileNotFoundError:\n",
    "        print(f\"The specified folder '{folder_path}' does not exist.\")\n",
    "    except PermissionError:\n",
    "        print(f\"Permission error accessing the folder '{folder_path}'.\")\n",
    "    return all_files"
   ]
  },
  {
   "cell_type": "code",
   "execution_count": 10,
   "id": "3ff99b3b-a512-4e6b-82f6-d83c7920e9f3",
   "metadata": {
    "tags": []
   },
   "outputs": [
    {
     "name": "stdout",
     "output_type": "stream",
     "text": [
      "Processing 55JGH ...\n",
      "Image EPSG:32755\n",
      "coordinates are in epsg:4326\n",
      "coordinates converted to in epsg:32755\n",
      "Adding polygon 1254/1254"
     ]
    }
   ],
   "source": [
    "for fn_tile in fn_tiles_S2:\n",
    "    tile_name = fn_tile[1:]\n",
    "    fp_tile = os.path.join(fp_tiles_S2, fn_tile)\n",
    "    print('Processing %s ...'%tile_name)\n",
    "    # find one band\n",
    "    all_files = list_files_recursive(fp_tile)\n",
    "    fp_image = [_ for _ in all_files if np.logical_and('_B02.jp2' in _,'IMG_DATA' in _)][0]\n",
    "    # load band\n",
    "    data = gdal.Open(fp_image, gdal.GA_ReadOnly)\n",
    "    georef = np.array(data.GetGeoTransform())\n",
    "    bands = [data.GetRasterBand(k + 1).ReadAsArray() for k in range(data.RasterCount)]\n",
    "    im = bands[0]\n",
    "    proj = osr.SpatialReference(wkt=data.GetProjection())\n",
    "    epsg_image = int(proj.GetAttrValue('AUTHORITY',1))\n",
    "    print('Image EPSG:%d'%epsg_image)\n",
    "    \n",
    "    # reproject vector layer to EPSG of tile\n",
    "    gdf_OFS = reproject(gdf_OFS,epsg_image)\n",
    "    \n",
    "    # initialise mask with zeros\n",
    "    im0 = np.zeros(im.shape)\n",
    "    # initialise dictionary with labels\n",
    "    labels = {}\n",
    "\n",
    "    # first run the OFS layer\n",
    "    for i in range(len(gdf_OFS)):\n",
    "        print('\\rAdding polygon %d/%d' % (i+1, len(gdf_OFS)), end='')\n",
    "        label = (i+1)*LABEL_MULTIPLE\n",
    "        ofs = gdf_OFS.iloc[i]\n",
    "        # add label to dictionary\n",
    "        labels[ofs.GEEID] = label\n",
    "        # UNFORTUNATELY some polygons are multipolygons (why does this object even exist?!)\n",
    "        ofs_geom = ofs.geometry\n",
    "        # if len(ofs_geom.geoms) > 1: raise\n",
    "        # loop through both multipolygons and assign the same label\n",
    "        for k in range(len(ofs_geom.geoms)):\n",
    "            # coordinates of polygon\n",
    "            try:\n",
    "                coords = np.array(ofs_geom.geoms[k].buffer(BUFFER_S2,mitre_limit=2).exterior.coords)\n",
    "            except:\n",
    "                print('polygon %s, skipped multipolygon %d'%(ofs.GEEID,k))\n",
    "            # convert to image coordinates\n",
    "            polygon = convert_world2pix(coords, georef)[:,[1,0]]\n",
    "            # check that geometry fits inside the image, otherwise skip it\n",
    "            x = polygon[:,1]\n",
    "            y = polygon[:,0]\n",
    "            if np.any(x<0) or np.any(y<0): continue\n",
    "            if np.any(x>im0.shape[1]) or np.any(y>im0.shape[0]): continue\n",
    "            # create mask (binary)\n",
    "            mask_polygon = polygon2mask(im.shape, polygon)\n",
    "            # multiply binary image by label\n",
    "            mask_label = label*mask_polygon\n",
    "            # set to 0 pixels that were already labelled\n",
    "            mask_label[im0>0] = 0\n",
    "            # add to mask\n",
    "            im0 += mask_label\n",
    "            \n",
    "    # write to a tif file\n",
    "    fn_image = fp_image.split('\\\\')[-1].replace('.jp2','.tif')\n",
    "    fn_im_labelled = os.path.join(fp_out_tiles_S2, fn_image)\n",
    "    # write with rasterio\n",
    "    georef2 = from_origin(georef[0]-georef[1]/2, georef[3]-georef[5]/2, georef[1], georef[1])\n",
    "    metadata = {\n",
    "        'driver': 'GTiff',\n",
    "        'count': 1,\n",
    "        'dtype': 'int16',\n",
    "        'width': im0.shape[1],\n",
    "        'height': im0.shape[0],\n",
    "        'crs': 'EPSG:%d'%epsg_image,\n",
    "    'transform': georef2,\n",
    "        'compress': 'lzw',\n",
    "    }\n",
    "    with rasterio.open(fn_im_labelled, 'w', **metadata) as dst:\n",
    "        dst.write(im0, 1)\n",
    "    \n",
    "# write labels dict to csv\n",
    "write_dict_to_csv(labels, os.path.join(fp_outputs,'labels_S2.csv'))"
   ]
  },
  {
   "cell_type": "markdown",
   "id": "3a257270-56cb-4922-b62f-6751f51ec239",
   "metadata": {},
   "source": [
    "### Create Landsat mask"
   ]
  },
  {
   "cell_type": "code",
   "execution_count": 11,
   "id": "01bb5816-053e-4bee-8215-5e7d2d0a300a",
   "metadata": {
    "tags": []
   },
   "outputs": [
    {
     "name": "stdout",
     "output_type": "stream",
     "text": [
      "LC08_L1TP_091080_20231115_20231122_02_T1_B2.TIF\n",
      "Image EPSG:32655\n",
      "coordinates are in epsg:32755\n",
      "coordinates converted to in epsg:32655\n",
      "Adding polygon 1254/1254"
     ]
    }
   ],
   "source": [
    "for fn_tile in fn_tiles_L:\n",
    "    print(fn_tile)\n",
    "    # load tile\n",
    "    fp_im = os.path.join(fp_tiles_L, fn_tile)\n",
    "    data = gdal.Open(fp_im, gdal.GA_ReadOnly)\n",
    "    georef = np.array(data.GetGeoTransform())\n",
    "    bands = [data.GetRasterBand(k + 1).ReadAsArray() for k in range(data.RasterCount)]\n",
    "    im = bands[0]\n",
    "    proj = osr.SpatialReference(wkt=data.GetProjection())\n",
    "    epsg_image = int(proj.GetAttrValue('AUTHORITY',1))\n",
    "    print('Image EPSG:%d'%epsg_image)\n",
    "\n",
    "    # reproject vector layer to EPSG of tile\n",
    "    gdf_OFS = reproject(gdf_OFS,epsg_image)\n",
    "    \n",
    "    # initialise mask with zeros\n",
    "    im0 = np.zeros(im.shape)\n",
    "    # initialise dictionary with labels\n",
    "    labels = {}\n",
    "    \n",
    "    # first run the OFS layer\n",
    "    for i in range(len(gdf_OFS)):\n",
    "        print('\\rAdding polygon %d/%d' % (i+1, len(gdf_OFS)), end='')\n",
    "        label = (i+1)*LABEL_MULTIPLE\n",
    "        ofs = gdf_OFS.iloc[i]\n",
    "        # add label to dictionary\n",
    "        labels[ofs.GEEID] = label\n",
    "        # UNFORTUNATELY some polygons are multipolygons (why does this object even exist?!)\n",
    "        ofs_geom = ofs.geometry\n",
    "        # if len(ofs_geom.geoms) > 1:\n",
    "        # loop through both multipolygons and assign the same label\n",
    "        for k in range(len(ofs_geom.geoms)):\n",
    "            # coordinates of polygon\n",
    "            try:\n",
    "                coords = np.array(ofs_geom.geoms[k].buffer(BUFFER_LANDSAT,mitre_limit=2).exterior.coords)\n",
    "            except:\n",
    "                print('polygon %s, skipped multipolygon %d'%(ofs.GEEID,k))\n",
    "            # convert to image coordinates\n",
    "            polygon = convert_world2pix(coords, georef)[:,[1,0]]\n",
    "            # check that geometry fits inside the image, otherwise skip it\n",
    "            x = polygon[:,1]\n",
    "            y = polygon[:,0]\n",
    "            if np.any(x<0) or np.any(y<0): continue\n",
    "            if np.any(x>im0.shape[1]) or np.any(y>im0.shape[0]): continue\n",
    "            # create mask (binary)\n",
    "            mask_polygon = polygon2mask(im.shape, polygon)\n",
    "            # multiply binary image by label\n",
    "            mask_label = label*mask_polygon\n",
    "            # set to 0 pixels that were already labelled\n",
    "            mask_label[im0>0] = 0\n",
    "            # add to mask\n",
    "            im0 += mask_label\n",
    "    \n",
    "    # write to a tif file\n",
    "    fn_im_labelled = os.path.join(fp_out_tiles_L, fn_tile)\n",
    "    # write with rasterio\n",
    "    georef2 = from_origin(georef[0]-georef[1]/2, georef[3]-georef[5]/2, georef[1], georef[1])\n",
    "    metadata = {\n",
    "        'driver': 'GTiff',\n",
    "        'count': 1, \n",
    "        'dtype': 'int16',  \n",
    "        'width': im0.shape[1],\n",
    "        'height': im0.shape[0],\n",
    "        'crs': 'EPSG:%d'%epsg_image,\n",
    "        'transform': georef2,\n",
    "        'compress': 'lzw',\n",
    "    }\n",
    "    with rasterio.open(fn_im_labelled, 'w', **metadata) as dst:\n",
    "        dst.write(im0, 1)\n",
    "        \n",
    "# write labels dict to csv\n",
    "write_dict_to_csv(labels, os.path.join(fp_outputs,'labels_Landsat.csv'))"
   ]
  },
  {
   "cell_type": "code",
   "execution_count": null,
   "id": "30f21cf7-6731-4c07-83df-c0fd84182ea8",
   "metadata": {},
   "outputs": [],
   "source": []
  }
 ],
 "metadata": {
  "kernelspec": {
   "display_name": "Python [conda env:coastsat] *",
   "language": "python",
   "name": "conda-env-coastsat-py"
  },
  "language_info": {
   "codemirror_mode": {
    "name": "ipython",
    "version": 3
   },
   "file_extension": ".py",
   "mimetype": "text/x-python",
   "name": "python",
   "nbconvert_exporter": "python",
   "pygments_lexer": "ipython3",
   "version": "3.11.4"
  }
 },
 "nbformat": 4,
 "nbformat_minor": 5
}
