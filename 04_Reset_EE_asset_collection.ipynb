{
 "cells": [
  {
   "cell_type": "markdown",
   "metadata": {
    "tags": []
   },
   "source": [
    "# 04. Reset EE Assets \n",
    "\n",
    "**Only run this notebook if you needed to restart uploading polygon masks**\n",
    "\n",
    "This notebook will deleted all the EE Assets so that you can restart uploading new polygon masks. This is useful in case of a new iteration of polygons, or an error in the first upload."
   ]
  },
  {
   "cell_type": "code",
   "execution_count": 1,
   "metadata": {
    "executionInfo": {
     "elapsed": 376,
     "status": "ok",
     "timestamp": 1723730731380,
     "user": {
      "displayName": "Shirui Hao",
      "userId": "16127122271389846236"
     },
     "user_tz": -600
    },
    "id": "Lkz--Q46Z9T1"
   },
   "outputs": [],
   "source": [
    "import ee"
   ]
  },
  {
   "cell_type": "code",
   "execution_count": 2,
   "metadata": {
    "executionInfo": {
     "elapsed": 13301,
     "status": "ok",
     "timestamp": 1723730746199,
     "user": {
      "displayName": "Shirui Hao",
      "userId": "16127122271389846236"
     },
     "user_tz": -600
    },
    "id": "muNCxeG9asmT"
   },
   "outputs": [
    {
     "data": {
      "text/html": [
       "<p>To authorize access needed by Earth Engine, open the following\n",
       "        URL in a web browser and follow the instructions:</p>\n",
       "        <p><a href=https://code.earthengine.google.com/client-auth?scopes=https%3A//www.googleapis.com/auth/earthengine%20https%3A//www.googleapis.com/auth/devstorage.full_control&request_id=STVOGF4YPZK9iHP4cjKVW6XyOKgpU10hWgaBhOMs8T0&tc=vAGNCFV8lNrb-Qkpv9I2C7bi1F8duRTNKrLAxIKCLiE&cc=IRUUPUxODMPfMGy_CQFHloDe3-1GP-Pi5sJquYAe0sI>https://code.earthengine.google.com/client-auth?scopes=https%3A//www.googleapis.com/auth/earthengine%20https%3A//www.googleapis.com/auth/devstorage.full_control&request_id=STVOGF4YPZK9iHP4cjKVW6XyOKgpU10hWgaBhOMs8T0&tc=vAGNCFV8lNrb-Qkpv9I2C7bi1F8duRTNKrLAxIKCLiE&cc=IRUUPUxODMPfMGy_CQFHloDe3-1GP-Pi5sJquYAe0sI</a></p>\n",
       "        <p>The authorization workflow will generate a code, which you should paste in the box below.</p>\n",
       "        "
      ],
      "text/plain": [
       "<IPython.core.display.HTML object>"
      ]
     },
     "metadata": {},
     "output_type": "display_data"
    },
    {
     "name": "stdout",
     "output_type": "stream",
     "text": [
      "\n",
      "Successfully saved authorization token.\n"
     ]
    }
   ],
   "source": [
    "# Authenticate and Initialize ee\n",
    "ee.Authenticate()\n",
    "ee.Initialize(project='nsw-dpe-gee-tst')"
   ]
  },
  {
   "cell_type": "code",
   "execution_count": 3,
   "metadata": {
    "executionInfo": {
     "elapsed": 384,
     "status": "ok",
     "timestamp": 1723730748473,
     "user": {
      "displayName": "Shirui Hao",
      "userId": "16127122271389846236"
     },
     "user_tz": -600
    },
    "id": "amf_9JUOaup2"
   },
   "outputs": [],
   "source": [
    "# Define the ImageCollection wish to delete\n",
    "COLLECTION = ee.ImageCollection('projects/nsw-dpe-gee-tst/assets/OFS/exp_baseOFS_Sentinel2_tiles_1')"
   ]
  },
  {
   "cell_type": "code",
   "execution_count": 4,
   "metadata": {
    "executionInfo": {
     "elapsed": 1,
     "status": "ok",
     "timestamp": 1723730750814,
     "user": {
      "displayName": "Shirui Hao",
      "userId": "16127122271389846236"
     },
     "user_tz": -600
    },
    "id": "zT0TjrCIa3aY"
   },
   "outputs": [],
   "source": [
    "# Function to delete an image.\n",
    "def delete_image(image):\n",
    "    image_id = image.get('system:id').getInfo()\n",
    "    ee.data.deleteAsset(image_id)\n",
    "    print(f'Deleted {image_id}')"
   ]
  },
  {
   "cell_type": "code",
   "execution_count": 5,
   "metadata": {
    "colab": {
     "base_uri": "https://localhost:8080/"
    },
    "executionInfo": {
     "elapsed": 11773,
     "status": "ok",
     "timestamp": 1723730764201,
     "user": {
      "displayName": "Shirui Hao",
      "userId": "16127122271389846236"
     },
     "user_tz": -600
    },
    "id": "dmuQcYDqa4gm",
    "outputId": "48e4bc94-850a-4960-877c-80d6d5efd687"
   },
   "outputs": [
    {
     "name": "stdout",
     "output_type": "stream",
     "text": [
      "Deleted projects/nsw-dpe-gee-tst/assets/OFS/exp_baseOFS_Sentinel2_tiles_1/20231213T001111_20231213T001105_T55HEE\n",
      "Deleted projects/nsw-dpe-gee-tst/assets/OFS/exp_baseOFS_Sentinel2_tiles_1/20231213T001111_20231213T001105_T55HFE\n",
      "Deleted projects/nsw-dpe-gee-tst/assets/OFS/exp_baseOFS_Sentinel2_tiles_1/20231213T001111_20231213T001105_T55JDG\n",
      "Deleted projects/nsw-dpe-gee-tst/assets/OFS/exp_baseOFS_Sentinel2_tiles_1/20231213T001111_20231213T001105_T55JEF\n",
      "Deleted projects/nsw-dpe-gee-tst/assets/OFS/exp_baseOFS_Sentinel2_tiles_1/20231213T001111_20231213T001105_T55JEG\n",
      "Deleted projects/nsw-dpe-gee-tst/assets/OFS/exp_baseOFS_Sentinel2_tiles_1/20231213T001111_20231213T001105_T55JFF\n",
      "Deleted projects/nsw-dpe-gee-tst/assets/OFS/exp_baseOFS_Sentinel2_tiles_1/20231213T001111_20231213T001105_T55JFG\n",
      "Deleted projects/nsw-dpe-gee-tst/assets/OFS/exp_baseOFS_Sentinel2_tiles_1/20231213T001111_20231213T001105_T55JFH\n",
      "Deleted projects/nsw-dpe-gee-tst/assets/OFS/exp_baseOFS_Sentinel2_tiles_1/20231213T001111_20231213T001105_T55JGF\n",
      "Deleted projects/nsw-dpe-gee-tst/assets/OFS/exp_baseOFS_Sentinel2_tiles_1/20231213T001111_20231213T001105_T55JGG\n",
      "Deleted projects/nsw-dpe-gee-tst/assets/OFS/exp_baseOFS_Sentinel2_tiles_1/20231213T001111_20231213T001105_T55JGH\n",
      "Deleted projects/nsw-dpe-gee-tst/assets/OFS/exp_baseOFS_Sentinel2_tiles_1/20231213T001111_20231213T001105_T55JGJ\n",
      "Deleted projects/nsw-dpe-gee-tst/assets/OFS/exp_baseOFS_Sentinel2_tiles_1/20231213T001111_20231213T001105_T56JKL\n",
      "Deleted projects/nsw-dpe-gee-tst/assets/OFS/exp_baseOFS_Sentinel2_tiles_1/20231213T001111_20231213T001105_T56JKM\n",
      "Deleted projects/nsw-dpe-gee-tst/assets/OFS/exp_baseOFS_Sentinel2_tiles_1/20231213T001111_20231213T001105_T56JKN\n",
      "Deleted projects/nsw-dpe-gee-tst/assets/OFS/exp_baseOFS_Sentinel2_tiles_1/20231213T001111_20231213T001105_T56JKP\n",
      "Deleted projects/nsw-dpe-gee-tst/assets/OFS/exp_baseOFS_Sentinel2_tiles_1/20231214T002709_20231214T003459_T55JCG\n",
      "Images deleted successfully. Now you can re-upload tiles using 03_Ingest_tiles_to_EEAssets.ipynb\n"
     ]
    }
   ],
   "source": [
    "# Get the list of images to delete.\n",
    "image_list = COLLECTION.toList(COLLECTION.size())\n",
    "\n",
    "# Loop through the list and delete each image.\n",
    "for i in range(image_list.size().getInfo()):\n",
    "    image = ee.Image(image_list.get(0))\n",
    "    delete_image(image)\n",
    "\n",
    "print('Images deleted successfully. Now you can re-upload tiles using 03_Ingest_tiles_to_EEAssets.ipynb')"
   ]
  },
  {
   "cell_type": "code",
   "execution_count": null,
   "metadata": {},
   "outputs": [],
   "source": []
  }
 ],
 "metadata": {
  "colab": {
   "authorship_tag": "ABX9TyNOnlvWe2BmBTS2Qn8mByBK",
   "provenance": []
  },
  "kernelspec": {
   "display_name": "Python 3 (ipykernel)",
   "language": "python",
   "name": "python3"
  },
  "language_info": {
   "codemirror_mode": {
    "name": "ipython",
    "version": 3
   },
   "file_extension": ".py",
   "mimetype": "text/x-python",
   "name": "python",
   "nbconvert_exporter": "python",
   "pygments_lexer": "ipython3",
   "version": "3.11.4"
  }
 },
 "nbformat": 4,
 "nbformat_minor": 4
}
