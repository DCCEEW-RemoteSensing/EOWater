{
 "cells": [
  {
   "cell_type": "markdown",
   "metadata": {
    "tags": []
   },
   "source": [
    "# 04. Reset EE Assets \n",
    "\n",
    "**Only run this notebook if you needed to restart uploading polygon masks**\n",
    "\n",
    "This notebook will deleted all the EE Assets so that you can restart uploading new polygon masks. This is useful in case of a new iteration of polygons, or an error in the first upload."
   ]
  },
  {
   "cell_type": "code",
   "execution_count": 7,
   "metadata": {
    "executionInfo": {
     "elapsed": 376,
     "status": "ok",
     "timestamp": 1723730731380,
     "user": {
      "displayName": "Shirui Hao",
      "userId": "16127122271389846236"
     },
     "user_tz": -600
    },
    "id": "Lkz--Q46Z9T1"
   },
   "outputs": [],
   "source": [
    "import ee"
   ]
  },
  {
   "cell_type": "code",
   "execution_count": 8,
   "metadata": {
    "executionInfo": {
     "elapsed": 13301,
     "status": "ok",
     "timestamp": 1723730746199,
     "user": {
      "displayName": "Shirui Hao",
      "userId": "16127122271389846236"
     },
     "user_tz": -600
    },
    "id": "muNCxeG9asmT"
   },
   "outputs": [],
   "source": [
    "# Authenticate and Initialize ee\n",
    "ee.Authenticate()\n",
    "ee.Initialize(project='nsw-dpe-gee-tst')"
   ]
  },
  {
   "cell_type": "code",
   "execution_count": 9,
   "metadata": {
    "executionInfo": {
     "elapsed": 384,
     "status": "ok",
     "timestamp": 1723730748473,
     "user": {
      "displayName": "Shirui Hao",
      "userId": "16127122271389846236"
     },
     "user_tz": -600
    },
    "id": "amf_9JUOaup2"
   },
   "outputs": [],
   "source": [
    "# Define the ImageCollection wish to delete\n",
    "COLLECTION_ID = f'projects/nsw-dpe-gee-tst/assets/OFS/exp_baseOFS_Sentinel2_tiles_1'\n",
    "\n",
    "collection = ee.ImageCollection(COLLECTION_ID)"
   ]
  },
  {
   "cell_type": "code",
   "execution_count": 10,
   "metadata": {
    "executionInfo": {
     "elapsed": 1,
     "status": "ok",
     "timestamp": 1723730750814,
     "user": {
      "displayName": "Shirui Hao",
      "userId": "16127122271389846236"
     },
     "user_tz": -600
    },
    "id": "zT0TjrCIa3aY"
   },
   "outputs": [],
   "source": [
    "# Function to delete an image.\n",
    "def delete_image(image):\n",
    "    image_id = image.get('system:id').getInfo()\n",
    "    ee.data.deleteAsset(image_id)\n",
    "    print(f'Deleted {image_id}')"
   ]
  },
  {
   "cell_type": "code",
   "execution_count": null,
   "metadata": {
    "colab": {
     "base_uri": "https://localhost:8080/"
    },
    "executionInfo": {
     "elapsed": 11773,
     "status": "ok",
     "timestamp": 1723730764201,
     "user": {
      "displayName": "Shirui Hao",
      "userId": "16127122271389846236"
     },
     "user_tz": -600
    },
    "id": "dmuQcYDqa4gm",
    "outputId": "48e4bc94-850a-4960-877c-80d6d5efd687"
   },
   "outputs": [],
   "source": [
    "# Get the list of images to delete.\n",
    "image_list = collection.toList(collection.size())\n",
    "\n",
    "# Loop through the list and delete each image.\n",
    "for i in range(image_list.size().getInfo()):\n",
    "    image = ee.Image(image_list.get(0))\n",
    "    delete_image(image)\n",
    "\n",
    "# Delete the image collection\n",
    "# Check if the asset already exists\n",
    "try:\n",
    "    ee.data.getAsset(COLLECTION_ID)\n",
    "    # If the asset exists, delete it\n",
    "    ee.data.deleteAsset(COLLECTION_ID)\n",
    "    print(f'Deleted existing asset at {COLLECTION_ID}')\n",
    "except:\n",
    "    print(f'No existing asset found at {COLLECTION_ID}')\n",
    "\n",
    "print('Images deleted successfully. Now you can re-upload tiles using 03_Upload_bucket_to_EE_asset.ipynb')"
   ]
  }
 ],
 "metadata": {
  "colab": {
   "authorship_tag": "ABX9TyNOnlvWe2BmBTS2Qn8mByBK",
   "provenance": []
  },
  "kernelspec": {
   "display_name": "Python 3 (ipykernel)",
   "language": "python",
   "name": "python3"
  },
  "language_info": {
   "codemirror_mode": {
    "name": "ipython",
    "version": 3
   },
   "file_extension": ".py",
   "mimetype": "text/x-python",
   "name": "python",
   "nbconvert_exporter": "python",
   "pygments_lexer": "ipython3",
   "version": "3.9.13"
  }
 },
 "nbformat": 4,
 "nbformat_minor": 4
}
