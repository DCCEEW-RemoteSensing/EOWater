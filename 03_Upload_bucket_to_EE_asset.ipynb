{
 "cells": [
  {
   "cell_type": "markdown",
   "metadata": {
    "tags": []
   },
   "source": [
    "# 03. Upload polygon masks from Cloud bucket to GEE Assets\n",
    "\n",
    "This notebook uploads the polygon mask created for each Sentinel-2 and Landsat tile from GCP (Google Cloud Platform) cloud bucket.\n",
    "\n",
    "This notebook reads in the output of the notebook [01_Create_polygon_mask.ipynb](https://github.com/ShiruiH/time-series-OFS/blob/main/01_Create_polygon_mask.ipynb), which is located in `/outputs/Sentinel2_tiles_mask` and `/outputs/Landsat_tiles_mask`."
   ]
  },
  {
   "cell_type": "code",
   "execution_count": 20,
   "metadata": {
    "executionInfo": {
     "elapsed": 1343,
     "status": "ok",
     "timestamp": 1723730822198,
     "user": {
      "displayName": "Shirui Hao",
      "userId": "16127122271389846236"
     },
     "user_tz": -600
    },
    "id": "LFEnIdxeEO4v",
    "tags": []
   },
   "outputs": [],
   "source": [
    "# import libraries\n",
    "import os\n",
    "import glob\n",
    "from pathlib import Path\n",
    "import shutil\n",
    "import json\n",
    "from google.cloud import storage\n",
    "import ee"
   ]
  },
  {
   "cell_type": "code",
   "execution_count": 22,
   "metadata": {
    "executionInfo": {
     "elapsed": 13867,
     "status": "ok",
     "timestamp": 1723730943967,
     "user": {
      "displayName": "Shirui Hao",
      "userId": "16127122271389846236"
     },
     "user_tz": -600
    },
    "id": "FkfczT_pN66h",
    "tags": []
   },
   "outputs": [],
   "source": [
    "# Authenticate and Initialize ee\n",
    "# ee.Authenticate()\n",
    "ee.Initialize(project='nsw-dpe-gee-tst')"
   ]
  },
  {
   "cell_type": "code",
   "execution_count": null,
   "metadata": {
    "colab": {
     "base_uri": "https://localhost:8080/"
    },
    "executionInfo": {
     "elapsed": 17727,
     "status": "ok",
     "timestamp": 1723730963893,
     "user": {
      "displayName": "Shirui Hao",
      "userId": "16127122271389846236"
     },
     "user_tz": -600
    },
    "id": "QnlWkPLarwPB",
    "outputId": "0c47fe85-1787-4bb2-dea6-9c9e28adaed1",
    "tags": []
   },
   "outputs": [],
   "source": [
    "! gcloud auth login\n",
    "! gcloud config set project nsw-dpe-gee-tst"
   ]
  },
  {
   "cell_type": "markdown",
   "metadata": {},
   "source": [
    "Auxiliary functions"
   ]
  },
  {
   "cell_type": "code",
   "execution_count": 23,
   "metadata": {
    "executionInfo": {
     "elapsed": 348,
     "status": "ok",
     "timestamp": 1723730966838,
     "user": {
      "displayName": "Shirui Hao",
      "userId": "16127122271389846236"
     },
     "user_tz": -600
    },
    "id": "wJIJAbYTEjWO",
    "tags": []
   },
   "outputs": [],
   "source": [
    "# list files in the bucket\n",
    "def list_blobs(bucket_name, folder_path):\n",
    "    storage_client = storage.Client()\n",
    "    blobs = storage_client.list_blobs(bucket_name, prefix=folder_path)\n",
    "    blobs = [blob for blob in blobs if blob.name != folder_path and not blob.name.endswith('/')]\n",
    "    return blobs\n",
    "# write json file\n",
    "def write_json(new_data, filename):\n",
    "    with open(filename, 'r+') as file:\n",
    "        # Load existing data into a dict\n",
    "        file_data = json.load(file)\n",
    "        # Write new data\n",
    "        file_data['name'] = new_data\n",
    "        # Sets file's current position at offset\n",
    "        file.seek(0)\n",
    "        # convert back to json\n",
    "        json.dump(file_data, file, indent=4)\n",
    "        file.truncate()\n",
    "        file.close()\n",
    "# write manifest for multiple files\n",
    "def write_json_manifest_multi_tiles(sources, tile, filename):\n",
    "    with open(filename, 'r+') as file:\n",
    "        # Load existing data into a dict\n",
    "        file_data = json.load(file)\n",
    "        # Write new data\n",
    "        file_data['tilesets'][0]['sources'] = [sources]\n",
    "        file_data['properties'] = tile\n",
    "        # Sets file's current position at offset\n",
    "        file.seek(0)\n",
    "        # convert back to json\n",
    "        json.dump(file_data, file, indent=4)\n",
    "        file.truncate()\n",
    "        file.close()"
   ]
  },
  {
   "cell_type": "markdown",
   "metadata": {},
   "source": [
    "Locate cloud bucket (make sure the path to the cloud bucket is correct)"
   ]
  },
  {
   "cell_type": "code",
   "execution_count": 24,
   "metadata": {
    "colab": {
     "base_uri": "https://localhost:8080/"
    },
    "executionInfo": {
     "elapsed": 322,
     "status": "ok",
     "timestamp": 1723730969799,
     "user": {
      "displayName": "Shirui Hao",
      "userId": "16127122271389846236"
     },
     "user_tz": -600
    },
    "id": "yOtnTmCPGMJv",
    "outputId": "3290d1f7-52f6-4557-beeb-64996198be78",
    "tags": []
   },
   "outputs": [
    {
     "name": "stdout",
     "output_type": "stream",
     "text": [
      "Polygon masks from satellite: Sentinel2\n"
     ]
    }
   ],
   "source": [
    "# Buckets args set up\n",
    "BUCKET_NAME = 'label-tiles'\n",
    "FOLDER_PATH = 'Sentinel2_tiles_mask/'\n",
    "sat_name = FOLDER_PATH.split('_')[0]\n",
    "print('Polygon masks from satellite:', sat_name)\n",
    "\n",
    "# GEE Assets args set up\n",
    "PROJ_NAME = 'nsw-dpe-gee-tst'\n",
    "ASSETS_SUB_FOLDER = 'OFS' # Can be nested folder, e.g., OFS/sub_folder\n",
    "IMAGE_COLLECTION_NAME = f'exp_baseOFS_{sat_name}_tiles_1'\n",
    "\n",
    "image_collection_id = f'projects/{PROJ_NAME}/assets/{ASSETS_SUB_FOLDER}/{IMAGE_COLLECTION_NAME}'"
   ]
  },
  {
   "cell_type": "code",
   "execution_count": 25,
   "metadata": {},
   "outputs": [
    {
     "name": "stdout",
     "output_type": "stream",
     "text": [
      "No existing asset found at projects/nsw-dpe-gee-tst/assets/OFS/exp_baseOFS_Sentinel2_tiles_1, proceeding to create new one\n"
     ]
    },
    {
     "data": {
      "text/plain": [
       "{'type': 'IMAGE_COLLECTION',\n",
       " 'name': 'projects/nsw-dpe-gee-tst/assets/OFS/exp_baseOFS_Sentinel2_tiles_1',\n",
       " 'id': 'projects/nsw-dpe-gee-tst/assets/OFS/exp_baseOFS_Sentinel2_tiles_1',\n",
       " 'updateTime': '2024-08-21T09:02:25.177207Z'}"
      ]
     },
     "execution_count": 25,
     "metadata": {},
     "output_type": "execute_result"
    }
   ],
   "source": [
    "# Create the ImageCollection\n",
    "# Check if the asset already exists\n",
    "try:\n",
    "    ee.data.getAsset(image_collection_id)\n",
    "    # If the asset exists, delete it\n",
    "    ee.data.deleteAsset(image_collection_id)\n",
    "    print(f'Deleted existing asset at {image_collection_id}')\n",
    "except:\n",
    "    print(f'No existing asset found at {image_collection_id}, proceeding to create new one')\n",
    "\n",
    "ee.data.createAsset({'type': 'ImageCollection'}, image_collection_id)"
   ]
  },
  {
   "cell_type": "markdown",
   "metadata": {},
   "source": [
    "Load template json manifest (to be updated in the next cell)"
   ]
  },
  {
   "cell_type": "code",
   "execution_count": 18,
   "metadata": {
    "executionInfo": {
     "elapsed": 2147,
     "status": "ok",
     "timestamp": 1723730973689,
     "user": {
      "displayName": "Shirui Hao",
      "userId": "16127122271389846236"
     },
     "user_tz": -600
    },
    "id": "nwpN1ZhbGTdN",
    "tags": []
   },
   "outputs": [
    {
     "name": "stdout",
     "output_type": "stream",
     "text": [
      "17 polygon masks found in cloud bucket\n"
     ]
    }
   ],
   "source": [
    "fp_outputs = os.path.join(os.getcwd(),'outputs')\n",
    "fp_json = os.path.join(fp_outputs,'json_manifest')\n",
    "if not os.path.exists(fp_json):\n",
    "    os.makedirs(fp_json)\n",
    "# JSON file template\n",
    "src_file = glob.glob(f'{fp_outputs}/Template_{sat_name}_tileset.json')[0]\n",
    "blobs_lst = list_blobs(BUCKET_NAME, FOLDER_PATH)\n",
    "upload_lst = [blob for blob in blobs_lst if '.tif' in blob.name]\n",
    "print('%d polygon masks found in cloud bucket'%len(upload_lst))"
   ]
  },
  {
   "cell_type": "markdown",
   "metadata": {},
   "source": [
    "Ingest file into GEE Assets using a json manifest"
   ]
  },
  {
   "cell_type": "code",
   "execution_count": 19,
   "metadata": {
    "executionInfo": {
     "elapsed": 9812,
     "status": "ok",
     "timestamp": 1723730985127,
     "user": {
      "displayName": "Shirui Hao",
      "userId": "16127122271389846236"
     },
     "user_tz": -600
    },
    "id": "JqUU0PuXGW8L",
    "tags": []
   },
   "outputs": [
    {
     "name": "stdout",
     "output_type": "stream",
     "text": [
      "17 polygon masks uploaded to GEE Assets under projects/nsw-dpe-gee-tst/assets/OFS/exp_baseOFS_Sentinel2_tiles_1\n"
     ]
    }
   ],
   "source": [
    "# loop through blobs (elements in cloud bucket)\n",
    "for blob in upload_lst:\n",
    "    blob_name = blob.name\n",
    "    file_name = blob_name.split('/')[1].split('.')[0]\n",
    "    tile = file_name.split('_')[-1]\n",
    "    dst_file = f'{fp_json}/{sat_name}_EE_upload_{tile}.json'\n",
    "    shutil.copy(src_file, dst_file)\n",
    "    assets_name = f'{image_collection_id}/{file_name}'\n",
    "    source_arg = {\n",
    "        \"uris\": [\n",
    "            f\"gs://{BUCKET_NAME}/{blob_name}\"\n",
    "            ]\n",
    "        }\n",
    "    # add tile property to the image object\n",
    "    tile_arg = {\n",
    "        \"Tile\": f\"{tile[1:]}\" # 'T' needs to be removed\n",
    "    }\n",
    "    # Change the base name in the json file\n",
    "    write_json(assets_name, dst_file)\n",
    "    write_json_manifest_multi_tiles(source_arg, tile_arg, filename=dst_file)\n",
    "    # Submit EE Tasks to ingest tiles\n",
    "    reqID = ee.data.newTaskId()[0]\n",
    "    with open(f'{dst_file}') as f:\n",
    "        params = json.load(f)\n",
    "    ee.data.startIngestion(request_id=reqID, params=params)\n",
    "print('%d polygon masks uploaded to GEE Assets under %s'%(len(upload_lst),image_collection_id))"
   ]
  }
 ],
 "metadata": {
  "colab": {
   "authorship_tag": "ABX9TyOZZ9X8+D/guAKhQu6ppshl",
   "provenance": []
  },
  "kernelspec": {
   "display_name": "Python 3 (ipykernel)",
   "language": "python",
   "name": "python3"
  },
  "language_info": {
   "codemirror_mode": {
    "name": "ipython",
    "version": 3
   },
   "file_extension": ".py",
   "mimetype": "text/x-python",
   "name": "python",
   "nbconvert_exporter": "python",
   "pygments_lexer": "ipython3",
   "version": "3.9.13"
  }
 },
 "nbformat": 4,
 "nbformat_minor": 4
}
